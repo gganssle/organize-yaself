{
 "cells": [
  {
   "cell_type": "code",
   "execution_count": 1,
   "metadata": {
    "collapsed": false
   },
   "outputs": [],
   "source": [
    "'''\n",
    "This code is adapted from https://codesachin.wordpress.com/2015/11/28/self-organizing-maps-with-googles-tensorflow/\n",
    "'''\n",
    "\n",
    "import tensorflow as tf\n",
    "import numpy as np\n",
    " \n",
    " \n",
    "class SOM(object): \n",
    "    _trained = False\n",
    " \n",
    "    def __init__(self, l, m, n, dim, n_iterations=100, alpha=None, sigma=None):\n",
    "        self._m = m\n",
    "        self._n = n\n",
    "        self._l = l\n",
    "        if alpha is None:\n",
    "            alpha = 0.3\n",
    "        else:\n",
    "            alpha = float(alpha)\n",
    "        if sigma is None:\n",
    "            sigma = max(l, m, n) / 2.0\n",
    "        else:\n",
    "            sigma = float(sigma)\n",
    "        self._n_iterations = abs(int(n_iterations))\n",
    " \n",
    "        self._graph = tf.Graph()\n",
    " \n",
    "        with self._graph.as_default():\n",
    "            self._weightage_vects = tf.Variable(tf.random_normal(\n",
    "                [l*m*n, dim]))\n",
    " \n",
    "            self._location_vects = tf.constant(np.array(\n",
    "                list(self._neuron_locations(l, m, n))))\n",
    " \n",
    "            self._vect_input = tf.placeholder(\"float\", [dim])\n",
    "            self._iter_input = tf.placeholder(\"float\")\n",
    "\n",
    "            bmu_index = tf.argmin(tf.sqrt(tf.reduce_sum(\n",
    "                tf.pow(tf.sub(self._weightage_vects, tf.pack(\n",
    "                    [self._vect_input for i in range(l*m*n)])), 2), 1)),\n",
    "                                  0)\n",
    " \n",
    "            slice_input = tf.pad(tf.reshape(bmu_index, [1]),\n",
    "                                 np.array([[0, 1]]))\n",
    "            bmu_loc = tf.reshape(tf.slice(self._location_vects, slice_input,\n",
    "                                          tf.constant(np.array([1, 3]))),\n",
    "                                 [3])\n",
    " \n",
    "            learning_rate_op = tf.sub(1.0, tf.div(self._iter_input,\n",
    "                                                  self._n_iterations))\n",
    "            _alpha_op = tf.mul(alpha, learning_rate_op)\n",
    "            _sigma_op = tf.mul(sigma, learning_rate_op)\n",
    "\n",
    "            bmu_distance_squares = tf.reduce_sum(tf.pow(tf.sub(\n",
    "                self._location_vects, tf.pack(\n",
    "                    [bmu_loc for i in range(l*m*n)])), 2), 1)\n",
    "\n",
    "            neighbourhood_func = tf.exp(tf.neg(tf.div(tf.cast(\n",
    "                bmu_distance_squares, \"float32\"), tf.pow(_sigma_op, 2))))\n",
    "            learning_rate_op = tf.mul(_alpha_op, neighbourhood_func)\n",
    "\n",
    "            learning_rate_multiplier = tf.pack([tf.tile(tf.slice(\n",
    "                learning_rate_op, np.array([i]), np.array([1])), [dim])\n",
    "                                               for i in range(l*m*n)])\n",
    "            weightage_delta = tf.mul(\n",
    "                learning_rate_multiplier,\n",
    "                tf.sub(tf.pack([self._vect_input for i in range(l*m*n)]),\n",
    "                       self._weightage_vects))                                         \n",
    "            new_weightages_op = tf.add(self._weightage_vects,\n",
    "                                       weightage_delta)\n",
    "            self._training_op = tf.assign(self._weightage_vects,\n",
    "                                          new_weightages_op)                                       \n",
    " \n",
    "            self._sess = tf.Session()\n",
    " \n",
    "            init_op = tf.global_variables_initializer()\n",
    "            self._sess.run(init_op)\n",
    " \n",
    "    def _neuron_locations(self, l, m, n):\n",
    "        for k in range(l):\n",
    "            for i in range(m):\n",
    "                for j in range(n):\n",
    "                    yield np.array([k, i, j])\n",
    " \n",
    "    def train(self, input_vects):\n",
    "        for iter_no in range(self._n_iterations):\n",
    "            for input_vect in input_vects:\n",
    "                self._sess.run(self._training_op,\n",
    "                               feed_dict={self._vect_input: input_vect,\n",
    "                                          self._iter_input: iter_no})\n",
    " \n",
    "        dim = len(input_vects[1])\n",
    "        centroid_grid = np.zeros((self._l, self._m, self._n, dim))\n",
    "        self._weightages = list(self._sess.run(self._weightage_vects))\n",
    "        self._locations = list(self._sess.run(self._location_vects))\n",
    "        for k in range(self._l):\n",
    "            for i in range(self._m):\n",
    "                for j in range(self._n):\n",
    "                    centroid_grid[k,i,j,0] = self._weightages[j + (i * self._n) + (k * self._n * self._m)][0]\n",
    "                    centroid_grid[k,i,j,1] = self._weightages[j + (i * self._n) + (k * self._n * self._m)][1]\n",
    "                    centroid_grid[k,i,j,2] = self._weightages[j + (i * self._n) + (k * self._n * self._m)][2]\n",
    "        self._centroid_grid = centroid_grid\n",
    "\n",
    "        self._trained = True\n",
    " \n",
    "    def get_centroids(self):\n",
    "        if not self._trained:\n",
    "            raise ValueError(\"SOM not trained yet\")\n",
    "        return self._centroid_grid\n",
    " \n",
    "    def map_vects(self, input_vects): \n",
    "        if not self._trained:\n",
    "            raise ValueError(\"SOM not trained yet\")\n",
    " \n",
    "        to_return = []\n",
    "        for vect in input_vects:\n",
    "            min_index = min([i for i in range(len(self._weightages))],\n",
    "                            key=lambda x: np.linalg.norm(vect-\n",
    "                                                         self._weightages[x]))\n",
    "            to_return.append(self._locations[min_index])\n",
    " \n",
    "        return to_return\n",
    "\n",
    "###########################################################################\n",
    "from matplotlib import pyplot as plt\n",
    " \n",
    "colors = np.array(\n",
    "     [[0., 0., 0.],\n",
    "      [0., 0., 1.],\n",
    "      [0., 0., 0.5],\n",
    "      [0.125, 0.529, 1.0],\n",
    "      [0.33, 0.4, 0.67],\n",
    "      [0.6, 0.5, 1.0],\n",
    "      [0., 1., 0.],\n",
    "      [1., 0., 0.],\n",
    "      [0., 1., 1.],\n",
    "      [1., 0., 1.],\n",
    "      [1., 1., 0.],\n",
    "      [1., 1., 1.],\n",
    "      [.33, .33, .33],\n",
    "      [.5, .5, .5],\n",
    "      [.66, .66, .66]])\n",
    "color_names = \\\n",
    "    ['black', 'blue', 'darkblue', 'skyblue',\n",
    "     'greyblue', 'lilac', 'green', 'red',\n",
    "     'cyan', 'violet', 'yellow', 'white',\n",
    "     'darkgrey', 'mediumgrey', 'lightgrey']\n",
    " \n",
    "som = SOM(10, 20, 30, 3, 200)\n",
    "som.train(colors)\n",
    "\n",
    "image_grid = som.get_centroids()\n",
    " \n",
    "mapped = som.map_vects(colors)"
   ]
  },
  {
   "cell_type": "code",
   "execution_count": 2,
   "metadata": {
    "collapsed": false
   },
   "outputs": [
    {
     "data": {
      "text/plain": [
       "(10, 20, 30, 3)"
      ]
     },
     "execution_count": 2,
     "metadata": {},
     "output_type": "execute_result"
    }
   ],
   "source": [
    "image_grid.shape"
   ]
  },
  {
   "cell_type": "code",
   "execution_count": 3,
   "metadata": {
    "collapsed": true
   },
   "outputs": [],
   "source": [
    "for i in range(9):\n",
    "        plt.imshow(image_grid[i,:,:,:])\n",
    "        plt.show()"
   ]
  },
  {
   "cell_type": "code",
   "execution_count": 4,
   "metadata": {
    "collapsed": false
   },
   "outputs": [
    {
     "data": {
      "text/plain": [
       "[array([ 0, 19, 29]),\n",
       " array([ 9, 12, 29]),\n",
       " array([ 7, 19, 29]),\n",
       " array([ 6,  6, 26]),\n",
       " array([ 8, 12, 18]),\n",
       " array([ 9,  0, 13]),\n",
       " array([ 9, 19,  0]),\n",
       " array([0, 0, 0]),\n",
       " array([ 9,  0, 29]),\n",
       " array([9, 0, 0]),\n",
       " array([ 0, 19,  0]),\n",
       " array([ 0,  0, 21]),\n",
       " array([ 0, 19, 19]),\n",
       " array([ 1, 14, 11]),\n",
       " array([ 0,  5, 12])]"
      ]
     },
     "execution_count": 4,
     "metadata": {},
     "output_type": "execute_result"
    }
   ],
   "source": [
    "mapped"
   ]
  },
  {
   "cell_type": "code",
   "execution_count": 10,
   "metadata": {
    "collapsed": false
   },
   "outputs": [
    {
     "data": {
      "text/plain": [
       "[array([0, 0, 0])]"
      ]
     },
     "execution_count": 10,
     "metadata": {},
     "output_type": "execute_result"
    }
   ],
   "source": [
    "som.map_vects([[255,0,0]])"
   ]
  },
  {
   "cell_type": "code",
   "execution_count": 12,
   "metadata": {
    "collapsed": false
   },
   "outputs": [],
   "source": [
    "plt.imshow(image_grid[0,:,:,:])\n",
    "plt.show()"
   ]
  },
  {
   "cell_type": "code",
   "execution_count": null,
   "metadata": {
    "collapsed": true
   },
   "outputs": [],
   "source": []
  }
 ],
 "metadata": {
  "kernelspec": {
   "display_name": "Python 3",
   "language": "python",
   "name": "python3"
  },
  "language_info": {
   "codemirror_mode": {
    "name": "ipython",
    "version": 3
   },
   "file_extension": ".py",
   "mimetype": "text/x-python",
   "name": "python",
   "nbconvert_exporter": "python",
   "pygments_lexer": "ipython3",
   "version": "3.5.1"
  }
 },
 "nbformat": 4,
 "nbformat_minor": 0
}
